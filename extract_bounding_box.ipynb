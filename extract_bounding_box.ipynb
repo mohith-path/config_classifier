{
 "cells": [
  {
   "cell_type": "code",
   "execution_count": 26,
   "metadata": {},
   "outputs": [],
   "source": [
    "import os\n",
    "import cv2\n",
    "import numpy as np\n",
    "import caml_core as core"
   ]
  },
  {
   "cell_type": "code",
   "execution_count": 27,
   "metadata": {},
   "outputs": [],
   "source": [
    "scanner_T_table = core.io.load_pose(\"data/motioncam_scans/scanner_T_tabletop.yaml\")"
   ]
  },
  {
   "cell_type": "code",
   "execution_count": 28,
   "metadata": {},
   "outputs": [],
   "source": [
    "background = core.io.load_snapshot(\"data/motioncam_scans/background\").get_observations()[0]\n",
    "observation = core.io.load_snapshot(\"data/motioncam_scans/snapshot_4\").get_observations()[0]\n",
    "\n",
    "observation.point_cloud.show()"
   ]
  },
  {
   "cell_type": "code",
   "execution_count": 29,
   "metadata": {},
   "outputs": [],
   "source": [
    "mask = np.logical_or(\n",
    "    (background.depth_image.image - observation.depth_image.image) > 0.005,\n",
    "    np.logical_and(observation.depth_image.image > 0, background.depth_image.image == 0)\n",
    ")\n",
    "\n",
    "mask = core.geometry.Image(mask.astype(np.float64))\n",
    "kernel = np.ones((5, 5))\n",
    "\n",
    "mask = mask.erode(kernel=kernel, iterations=3)\n",
    "mask = mask.dilate(kernel=kernel, iterations=3)\n",
    "\n",
    "mask = mask.dilate(kernel=kernel, iterations=3)\n",
    "mask = mask.erode(kernel=kernel, iterations=5)\n",
    "\n",
    "mask.show()"
   ]
  },
  {
   "cell_type": "code",
   "execution_count": 30,
   "metadata": {},
   "outputs": [],
   "source": [
    "masked_point_cloud = observation.point_cloud.select_by_image_mask(\n",
    "    mask=mask,\n",
    "    extrinsics=core.geometry.Pose(),\n",
    "    intrinsics=observation.get_intrinsics(),\n",
    "    distortions=observation.get_distortion_coefficients(),\n",
    ")\n",
    "masked_point_cloud.show()"
   ]
  },
  {
   "cell_type": "code",
   "execution_count": 31,
   "metadata": {},
   "outputs": [],
   "source": [
    "\n",
    "cleaned_pc, _ = masked_point_cloud.as_open3d().remove_radius_outlier(50, 0.005)\n",
    "cleaned_pc, _ = cleaned_pc.remove_statistical_outlier(50, 2.0)\n",
    "\n",
    "obb = cleaned_pc.get_minimal_oriented_bounding_box()\n",
    "\n",
    "sorted_indicies = np.argsort(obb.extent)\n",
    "\n",
    "desired_x = -scanner_T_table.get_rotation_matrix()[:, 2]\n",
    "desired_z = obb.R[:, sorted_indicies[0]]\n",
    "desired_z = core.math.normalize_vector(desired_z - np.dot(desired_z, desired_x) * desired_x)\n",
    "desired_R = core.math.build_rotation_matrix(x_axis=desired_x, z_axis=desired_z)\n",
    "\n",
    "center = core.geometry.Pose(translation=obb.center, rotation_matrix=desired_R)\n",
    "\n",
    "cleaned_point_cloud = core.geometry.PointCloud(cleaned_pc)\n",
    "\n",
    "core.visualization.draw_geometries_with_hiding([], [center, cleaned_point_cloud])"
   ]
  },
  {
   "cell_type": "code",
   "execution_count": 32,
   "metadata": {},
   "outputs": [],
   "source": [
    "# body_support = core.io.load_part_template(os.path.join(core.io.get_oasis_path(), \"CAMLPartTemplates/demo/demo_v2/body_support\"))\n",
    "# body_support.show()"
   ]
  }
 ],
 "metadata": {
  "kernelspec": {
   "display_name": "melvin",
   "language": "python",
   "name": "python3"
  },
  "language_info": {
   "codemirror_mode": {
    "name": "ipython",
    "version": 3
   },
   "file_extension": ".py",
   "mimetype": "text/x-python",
   "name": "python",
   "nbconvert_exporter": "python",
   "pygments_lexer": "ipython3",
   "version": "3.8.10"
  }
 },
 "nbformat": 4,
 "nbformat_minor": 2
}
