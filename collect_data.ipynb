{
 "cells": [
  {
   "cell_type": "code",
   "execution_count": 1,
   "metadata": {},
   "outputs": [
    {
     "name": "stdout",
     "output_type": "stream",
     "text": [
      "Jupyter environment detected. Enabling Open3D WebVisualizer.\n",
      "[Open3D INFO] WebRTC GUI backend enabled.\n",
      "[Open3D INFO] WebRTCWindowSystem: HTTP handshake server disabled.\n",
      "\u001b[93m[WARN    ]\u001b[00m\t [2024-04-25 13:19:59.614133] Cannot import pypylon. Will not be able to connect to real Pylon devices \n"
     ]
    },
    {
     "name": "stderr",
     "output_type": "stream",
     "text": [
      "pybullet build time: May 20 2022 19:44:17\n"
     ]
    }
   ],
   "source": [
    "import caml_core as core\n",
    "import caml_cell as cell\n",
    "\n",
    "import cv2\n",
    "import os\n",
    "import threading\n",
    "import yaml\n",
    "import numpy as np\n",
    "\n",
    "from pynput.keyboard import Key, Listener"
   ]
  },
  {
   "cell_type": "code",
   "execution_count": 2,
   "metadata": {},
   "outputs": [],
   "source": [
    "real_sense = cell.sensors.scanners.RealSenseD405(\n",
    "    serial_number=\"130322272961\",\n",
    "    frame_rate=15,\n",
    ")"
   ]
  },
  {
   "cell_type": "code",
   "execution_count": 3,
   "metadata": {},
   "outputs": [],
   "source": [
    "class Streamer:\n",
    "\n",
    "    def __init__(self, real_sense: cell.sensors.scanners.RealSenseD405) -> None:\n",
    "        self._terminate = False\n",
    "        self._last_observation = None\n",
    "        self.real_sense = real_sense\n",
    "        self._trigger_renderer = threading.Event()\n",
    "        self._camera_thread = None\n",
    "\n",
    "    def _callback(self, snapshot: core.data.SnapShot) -> bool:\n",
    "        self._last_observation = snapshot.get_observations()[0]\n",
    "        self._trigger_renderer.set()\n",
    "        return not self._terminate\n",
    "\n",
    "    def _stream(self,) -> None:\n",
    "        self._camera_thread = threading.Thread(\n",
    "            target=lambda: self.real_sense.stream(callback=self._callback),\n",
    "            name=\"camera-capture\",\n",
    "        )\n",
    "        self._trigger_renderer.clear()\n",
    "        self._camera_thread.start()\n",
    "\n",
    "        while True:\n",
    "            self._trigger_renderer.wait()\n",
    "            if not self._terminate:\n",
    "                self._trigger_renderer.clear()\n",
    "                h, w, c = self._last_observation.image.get_dimensions()\n",
    "                resized_image = self._last_observation.image.resize((2 * h, 2 * w))\n",
    "                cv2.imshow(\"realsense\", resized_image.image[:, :, ::-1])\n",
    "                cv2.waitKey(10)\n",
    "            \n",
    "            else:\n",
    "                core.logger.info(\"Closing streaming...\")\n",
    "                cv2.destroyAllWindows()\n",
    "                self._camera_thread.join()\n",
    "                core.logger.info(\"streaming closed\")\n",
    "                break\n",
    "\n",
    "    def start_stream(self) -> None:\n",
    "        self._streamer_thread = threading.Thread(target=self._stream, name=\"streamer\")\n",
    "        self._streamer_thread.start()\n",
    "        core.logger.info(\"Streaming started...\")\n",
    "\n",
    "    def terminate(self,) -> None:\n",
    "        self._terminate = True\n",
    "        self._trigger_renderer.set()\n",
    "        self._streamer_thread.join()\n",
    "        self._terminate = False"
   ]
  },
  {
   "cell_type": "code",
   "execution_count": 7,
   "metadata": {},
   "outputs": [],
   "source": [
    "class DataCollector:\n",
    "\n",
    "    def __init__(self, save_dir: str, index: int, config: str, bolt_state: int, hinge_state: int) -> None:\n",
    "        self.save_dir = save_dir\n",
    "        if not os.path.exists(self.save_dir):\n",
    "                os.makedirs(self.save_dir)\n",
    "\n",
    "        self.index = index\n",
    "        self.config = config\n",
    "        # Label details\n",
    "        self.bolt_state = bolt_state\n",
    "        self.hinge_state = hinge_state\n",
    "\n",
    "    def store_observation(self) -> None:\n",
    "        observation = real_sense.scan().get_observations()[0]\n",
    "\n",
    "        # flag = input(\"Use observation? (Y/N)\") in [\"y\", \"Y\"]\n",
    "        flag = True\n",
    "\n",
    "        if flag:\n",
    "            observation_path = os.path.join(self.save_dir, f\"{self.config}_{self.index}\")\n",
    "            core.io.save_observation(observation_path, observation)\n",
    "            yaml.dump(\n",
    "                    data={\"bolt\": self.bolt_state, \"hinge\": self.hinge_state},\n",
    "                stream=open(os.path.join(observation_path, \"label.yaml\"), 'w')\n",
    "            )\n",
    "            core.logger.info(f\"Sample {self.index} stored.\")\n",
    "            self.index += 1\n",
    "        \n",
    "        else:\n",
    "            core.logger.info(\"Sample skipped...\")\n",
    "\n"
   ]
  },
  {
   "cell_type": "code",
   "execution_count": 8,
   "metadata": {},
   "outputs": [],
   "source": [
    "streamer = Streamer(real_sense=real_sense)\n",
    "data_collector = DataCollector(\n",
    "    save_dir=\"data/v2\",\n",
    "    index=4,\n",
    "    config=\"bracket_hinge_bolt_nut\",\n",
    "    bolt_state=0,\n",
    "    hinge_state=0,\n",
    ")"
   ]
  },
  {
   "cell_type": "code",
   "execution_count": 9,
   "metadata": {},
   "outputs": [
    {
     "name": "stdout",
     "output_type": "stream",
     "text": [
      "\u001b[94m[INFO    ]\u001b[00m\t [2024-04-25 13:21:14.021596] Streaming started... \n",
      "c\n",
      "\u001b[94m[INFO    ]\u001b[00m\t [2024-04-25 13:21:16.994164] Closing streaming... \n",
      "\u001b[94m[INFO    ]\u001b[00m\t [2024-04-25 13:21:17.028827] streaming closed \n",
      "\u001b[94m[INFO    ]\u001b[00m\t [2024-04-25 13:21:22.262667] Streaming started... \n",
      "n\n",
      "\u001b[94m[INFO    ]\u001b[00m\t [2024-04-25 13:21:28.642221] Closing streaming... \n",
      "\u001b[94m[INFO    ]\u001b[00m\t [2024-04-25 13:21:28.694962] streaming closed \n"
     ]
    }
   ],
   "source": [
    "def on_press(key):\n",
    "    try:\n",
    "        print(key.char)\n",
    "        # Press c to capture\n",
    "        if key.char == 'c':\n",
    "            streamer.terminate()\n",
    "            data_collector.store_observation()\n",
    "            streamer.start_stream()\n",
    "            \n",
    "    except AttributeError:\n",
    "        if key == Key.esc:\n",
    "            streamer.terminate()\n",
    "            return False  # Stop listener\n",
    "\n",
    "# Start streaming and data-collection\n",
    "streamer.start_stream()\n",
    "with Listener(on_press=on_press) as listener:\n",
    "        listener.join()"
   ]
  }
 ],
 "metadata": {
  "kernelspec": {
   "display_name": "caml",
   "language": "python",
   "name": "python3"
  },
  "language_info": {
   "codemirror_mode": {
    "name": "ipython",
    "version": 3
   },
   "file_extension": ".py",
   "mimetype": "text/x-python",
   "name": "python",
   "nbconvert_exporter": "python",
   "pygments_lexer": "ipython3",
   "version": "3.8.10"
  }
 },
 "nbformat": 4,
 "nbformat_minor": 2
}
