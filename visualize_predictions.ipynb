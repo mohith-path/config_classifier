{
 "cells": [
  {
   "cell_type": "code",
   "execution_count": 1,
   "metadata": {},
   "outputs": [
    {
     "name": "stdout",
     "output_type": "stream",
     "text": [
      "Jupyter environment detected. Enabling Open3D WebVisualizer.\n",
      "[Open3D INFO] WebRTC GUI backend enabled.\n",
      "[Open3D INFO] WebRTCWindowSystem: HTTP handshake server disabled.\n"
     ]
    }
   ],
   "source": [
    "import glob\n",
    "import torch\n",
    "import numpy as np\n",
    "\n",
    "from cc.model import Classifier\n",
    "from cc.dataset import CCDataset\n",
    "\n",
    "import caml_core as core\n",
    "\n",
    "import torchcam"
   ]
  },
  {
   "cell_type": "code",
   "execution_count": 2,
   "metadata": {},
   "outputs": [],
   "source": [
    "DATASET_PATH = \"data/v3\"\n",
    "MODEL = \"version_0\""
   ]
  },
  {
   "cell_type": "code",
   "execution_count": 3,
   "metadata": {},
   "outputs": [
    {
     "data": {
      "text/plain": [
       "<All keys matched successfully>"
      ]
     },
     "execution_count": 3,
     "metadata": {},
     "output_type": "execute_result"
    }
   ],
   "source": [
    "checkpoint_path = glob.glob(f\"lightning_logs/{MODEL}/checkpoints/*\")[0]\n",
    "checkpoint = torch.load(checkpoint_path)\n",
    "\n",
    "model = Classifier().eval()\n",
    "model.load_state_dict(checkpoint['state_dict'])"
   ]
  },
  {
   "cell_type": "code",
   "execution_count": 4,
   "metadata": {},
   "outputs": [],
   "source": [
    "validation_dataset = CCDataset(path=DATASET_PATH, type=\"val\")\n",
    "validation_dataloader = torch.utils.data.DataLoader(\n",
    "        dataset=validation_dataset,\n",
    "        batch_size=1,\n",
    "        shuffle=True,\n",
    "        num_workers=0,\n",
    "        drop_last=False\n",
    "    )"
   ]
  },
  {
   "cell_type": "code",
   "execution_count": 5,
   "metadata": {},
   "outputs": [],
   "source": [
    "# for sample in validation_dataloader:\n",
    "#     x, y = sample\n",
    "\n",
    "#     bolt_gt = y[0, 0].cpu().item()\n",
    "#     hinge_gt = y[0, 1].cpu().item()\n",
    "\n",
    "#     bolt_logits, hinge_logits = model.forward(x=x)\n",
    "#     if bolt_logits is not None:\n",
    "#         bolt_probs = torch.sigmoid(bolt_logits).detach().cpu().item()\n",
    "#     else:\n",
    "#         bolt_probs = None\n",
    "\n",
    "#     if hinge_logits is not None:\n",
    "#         hinge_probs = torch.sigmoid(hinge_logits).detach().cpu().item()\n",
    "#     else:\n",
    "#         hinge_probs = None\n",
    "\n",
    "#     if (bolt_probs is not None  and (bolt_gt != np.round(bolt_probs)) or (hinge_probs is not None and hinge_gt != np.round(hinge_probs))):\n",
    "#         print(f\"label: Bolt - {bolt_gt} \\t Hinge - {hinge_gt}\")\n",
    "#         print(f\"Pred: Bolt - {bolt_probs} \\t Hinge - {hinge_probs}\")\n",
    "\n",
    "#         image = x[0].detach().cpu().numpy().astype(np.uint8)\n",
    "#         image = core.geometry.Image(image=image.transpose((1, 2, 0)))\n",
    "#         h, w, _ = image.get_dimensions()\n",
    "#         image = image.resize((3 * h, 3 * w))\n",
    "        \n",
    "#         image.show()"
   ]
  },
  {
   "cell_type": "code",
   "execution_count": 6,
   "metadata": {},
   "outputs": [
    {
     "name": "stdout",
     "output_type": "stream",
     "text": [
      "label: Bolt - 0.0 \t Hinge - 0.0\n",
      "Pred: Bolt - 0.6192986965179443 \t Hinge - 0.004175654146820307\n"
     ]
    },
    {
     "name": "stderr",
     "output_type": "stream",
     "text": [
      "Gtk-Message: 10:22:15.635: Failed to load module \"canberra-gtk-module\"\n"
     ]
    },
    {
     "name": "stdout",
     "output_type": "stream",
     "text": [
      "label: Bolt - 1.0 \t Hinge - 0.0\n",
      "Pred: Bolt - 0.1944405883550644 \t Hinge - 0.003031122963875532\n"
     ]
    }
   ],
   "source": [
    "cam = torchcam.methods.XGradCAM(model, '_additional_conv')\n",
    "\n",
    "for index, sample in enumerate(validation_dataloader):\n",
    "    x, y = sample\n",
    "\n",
    "    bolt_gt = y[0, 0].cpu().item()\n",
    "    hinge_gt = y[0, 1].cpu().item()\n",
    "\n",
    "    # For CAM Visualization\n",
    "    new_x = model.pre_processor(x)\n",
    "    new_x.requires_grad = True\n",
    "\n",
    "    bolt_logits, hinge_logits = model.forward(x=new_x, skip_pre_process=True)\n",
    "    if bolt_logits is not None:\n",
    "        bolt_probs = torch.sigmoid(bolt_logits)\n",
    "    else:\n",
    "        bolt_probs = None\n",
    "\n",
    "    if hinge_logits is not None:\n",
    "        hinge_probs = torch.sigmoid(hinge_logits)\n",
    "    else:\n",
    "        hinge_probs = None\n",
    "\n",
    "    if (bolt_probs is not None  and (bolt_gt != np.round(bolt_probs.detach().cpu().item())) or (hinge_probs is not None and hinge_gt != np.round(hinge_probs.detach().cpu().item()))):\n",
    "\n",
    "        print(f\"label: Bolt - {bolt_gt} \\t Hinge - {hinge_gt}\")\n",
    "        print(f\"Pred: Bolt - {bolt_probs.detach().cpu().item()} \\t Hinge - {hinge_probs.detach().cpu().item()}\")\n",
    "\n",
    "        image = x[0].detach().cpu().numpy().astype(np.uint8)\n",
    "        image = core.geometry.Image(image=image.transpose((1, 2, 0)))\n",
    "\n",
    "        class_id = int(torch.round(hinge_probs).item())\n",
    "        scores = torch.cat([ 1- hinge_probs, hinge_probs], dim=-1)\n",
    "        act_map = cam(class_idx=class_id, scores=scores)\n",
    "\n",
    "        act_map = act_map[0][0].detach().cpu().numpy().astype(float)\n",
    "        act_map = core.geometry.Image(act_map).resize(image.get_dimensions()[:2])\n",
    "\n",
    "        # Attenuate activation map\n",
    "        act_map.image = act_map.image * act_map.image\n",
    "\n",
    "        # Overlay activation map on the image\n",
    "        overlaid_image = (act_map.image * 0.85)[..., None] + (image.image / 255.0) * 0.15\n",
    "        overlaid_image = core.geometry.Image(overlaid_image)\n",
    "        overlaid_image = overlaid_image.resize((448, 448))\n",
    "        overlaid_image.show()\n"
   ]
  }
 ],
 "metadata": {
  "kernelspec": {
   "display_name": "Python 3",
   "language": "python",
   "name": "python3"
  },
  "language_info": {
   "codemirror_mode": {
    "name": "ipython",
    "version": 3
   },
   "file_extension": ".py",
   "mimetype": "text/x-python",
   "name": "python",
   "nbconvert_exporter": "python",
   "pygments_lexer": "ipython3",
   "version": "3.8.10"
  }
 },
 "nbformat": 4,
 "nbformat_minor": 2
}
